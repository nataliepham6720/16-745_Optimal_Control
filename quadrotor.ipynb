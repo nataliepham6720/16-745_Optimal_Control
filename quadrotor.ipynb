{
  "nbformat": 4,
  "nbformat_minor": 0,
  "metadata": {
    "colab": {
      "provenance": [],
      "authorship_tag": "ABX9TyOgvQ4ZCw3MCmXufrDGQIvE",
      "include_colab_link": true
    },
    "kernelspec": {
      "name": "python3",
      "display_name": "Python 3"
    },
    "language_info": {
      "name": "python"
    }
  },
  "cells": [
    {
      "cell_type": "markdown",
      "metadata": {
        "id": "view-in-github",
        "colab_type": "text"
      },
      "source": [
        "<a href=\"https://colab.research.google.com/github/nataliepham6720/16-745_Optimal_Control/blob/main/quadrotor.ipynb\" target=\"_parent\"><img src=\"https://colab.research.google.com/assets/colab-badge.svg\" alt=\"Open In Colab\"/></a>"
      ]
    },
    {
      "cell_type": "code",
      "execution_count": 1,
      "metadata": {
        "colab": {
          "base_uri": "https://localhost:8080/"
        },
        "id": "eQChF8RfHyVu",
        "outputId": "b104c97f-3044-4693-e583-67ce23809fdd"
      },
      "outputs": [
        {
          "output_type": "execute_result",
          "data": {
            "text/plain": [
              "(array([ 0.26704275,  0.68633422, -0.22957184,  0.63634132]),\n",
              " array([-0.26704275, -0.68633422,  0.22957184, -0.63634132]),\n",
              " 12)"
            ]
          },
          "metadata": {},
          "execution_count": 1
        }
      ],
      "source": [
        "import numpy as np\n",
        "from numpy.linalg import norm, solve\n",
        "from scipy.spatial.transform import Rotation as R\n",
        "\n",
        "def hat(v):\n",
        "    return np.array([\n",
        "        [0, -v[2], v[1]],\n",
        "        [v[2], 0, -v[0]],\n",
        "        [-v[1], v[0], 0]\n",
        "    ])\n",
        "\n",
        "def L(q):\n",
        "    s = q[0]\n",
        "    v = q[1:4]\n",
        "    return np.block([\n",
        "        [np.array([[s]]), -v.reshape(1, 3)],\n",
        "        [v.reshape(3, 1), s * np.eye(3) + hat(v)]\n",
        "    ])\n",
        "\n",
        "def Rmat(q):\n",
        "    s = q[0]\n",
        "    v = q[1:4]\n",
        "    return np.block([\n",
        "        [np.array([[s]]), -v.reshape(1, 3)],\n",
        "        [v.reshape(3, 1), s * np.eye(3) - hat(v)]\n",
        "    ])\n",
        "\n",
        "T = np.diag([1, -1, -1, -1])\n",
        "H = np.vstack([np.zeros((1, 3)), np.eye(3)])\n",
        "\n",
        "def G(q):\n",
        "    return L(q) @ H\n",
        "\n",
        "def Q(q):\n",
        "    return H.T @ (Rmat(q).T @ L(q)) @ H\n",
        "\n",
        "# Generate a random quaternion\n",
        "qtrue = np.random.randn(4)\n",
        "qtrue /= norm(qtrue)\n",
        "Qtrue = Q(qtrue)\n",
        "\n",
        "# Generate random world-frame vectors\n",
        "vN = np.random.randn(3, 10)\n",
        "vN /= norm(vN, axis=0, keepdims=True)  # Normalize each column\n",
        "vB = Qtrue.T @ vN  # Body-frame vectors\n",
        "\n",
        "def residual(q):\n",
        "    return (vN - Q(q) @ vB).flatten()\n",
        "\n",
        "# Gauss-Newton Method\n",
        "q = np.random.randn(4)\n",
        "q /= norm(q)\n",
        "phi = np.ones(3)\n",
        "iter = 0\n",
        "\n",
        "while np.max(np.abs(phi)) > 1e-8:\n",
        "    r = residual(q)\n",
        "\n",
        "    # Compute Jacobian using finite differences (since ForwardDiff is not native to Python)\n",
        "    def f(q_):\n",
        "        return residual(q_)\n",
        "\n",
        "    eps = 1e-8\n",
        "    dr = np.zeros((len(r), 4))\n",
        "    for i in range(4):\n",
        "        dq = np.zeros(4)\n",
        "        dq[i] = eps\n",
        "        dr[:, i] = (f(q + dq) - f(q - dq)) / (2 * eps)\n",
        "\n",
        "    nabla_r = dr @ G(q)\n",
        "    phi = -solve(nabla_r.T @ nabla_r, nabla_r.T @ r)\n",
        "    delta_q = np.concatenate([[np.sqrt(1 - phi @ phi)], phi])\n",
        "    q = L(q) @ delta_q\n",
        "    q /= norm(q)  # Normalize\n",
        "    iter += 1\n",
        "\n",
        "q_est = q\n",
        "qtrue_est = qtrue\n",
        "\n",
        "q_est, qtrue_est, iter\n"
      ]
    }
  ]
}