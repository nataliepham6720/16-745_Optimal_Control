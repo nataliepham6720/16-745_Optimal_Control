{
  "nbformat": 4,
  "nbformat_minor": 0,
  "metadata": {
    "colab": {
      "provenance": [],
      "authorship_tag": "ABX9TyP6/PXlELBKGO+KJ1Ml1Dw+",
      "include_colab_link": true
    },
    "kernelspec": {
      "name": "python3",
      "display_name": "Python 3"
    },
    "language_info": {
      "name": "python"
    }
  },
  "cells": [
    {
      "cell_type": "markdown",
      "metadata": {
        "id": "view-in-github",
        "colab_type": "text"
      },
      "source": [
        "<a href=\"https://colab.research.google.com/github/nataliepham6720/16-745_Optimal_Control/blob/main/wahba.ipynb\" target=\"_parent\"><img src=\"https://colab.research.google.com/assets/colab-badge.svg\" alt=\"Open In Colab\"/></a>"
      ]
    },
    {
      "cell_type": "code",
      "execution_count": 4,
      "metadata": {
        "colab": {
          "base_uri": "https://localhost:8080/"
        },
        "id": "DoA0O9xeHOgJ",
        "outputId": "ce103a21-686e-44f7-a915-48b0d57737ab"
      },
      "outputs": [
        {
          "output_type": "stream",
          "name": "stdout",
          "text": [
            "Warning: ill-conditioned Hessian. Stopping.\n",
            "Iterations: 0\n",
            "q - qtrue: [-0.91000207  0.96543861 -0.99054699 -0.3767745 ]\n",
            "q + qtrue: [-0.44579175 -0.72794843 -0.06427388 -0.6196062 ]\n"
          ]
        },
        {
          "output_type": "stream",
          "name": "stderr",
          "text": [
            "/usr/local/lib/python3.11/dist-packages/autograd/tracer.py:16: UserWarning: Output seems independent of input.\n",
            "  warnings.warn(\"Output seems independent of input.\")\n"
          ]
        }
      ],
      "source": [
        "import autograd.numpy as anp\n",
        "from autograd import jacobian\n",
        "import numpy as np\n",
        "\n",
        "# Skew-symmetric matrix\n",
        "def hat(v):\n",
        "    return anp.array([\n",
        "        [0, -v[2], v[1]],\n",
        "        [v[2], 0, -v[0]],\n",
        "        [-v[1], v[0], 0]\n",
        "    ])\n",
        "\n",
        "def L(q):\n",
        "    s, v = q[0], q[1:4]\n",
        "    return anp.block([\n",
        "        [anp.array([[s]]), -v[None, :]],\n",
        "        [v[:, None], s * anp.eye(3) + hat(v)]\n",
        "    ])\n",
        "\n",
        "def R(q):\n",
        "    s, v = q[0], q[1:4]\n",
        "    return anp.block([\n",
        "        [anp.array([[s]]), -v[None, :]],\n",
        "        [v[:, None], s * anp.eye(3) - hat(v)]\n",
        "    ])\n",
        "\n",
        "# Constants\n",
        "T = anp.diag(anp.array([1.0, -1.0, -1.0, -1.0]))\n",
        "H = anp.vstack([anp.zeros((1, 3)), anp.eye(3)])\n",
        "\n",
        "def G(q):\n",
        "    return L(q) @ H\n",
        "\n",
        "def Q(q):\n",
        "    return H.T @ R(q).T @ L(q) @ H\n",
        "\n",
        "# Generate synthetic data\n",
        "qtrue = np.random.randn(4)\n",
        "qtrue = qtrue / np.linalg.norm(qtrue)\n",
        "Qtrue = Q(qtrue)\n",
        "\n",
        "vN = np.random.randn(3, 10)\n",
        "vN /= np.linalg.norm(vN, axis=0, keepdims=True)\n",
        "vB = anp.dot(Qtrue.T, vN)\n",
        "\n",
        "def residual(q):\n",
        "    return (vN - Q(q) @ vB).reshape(-1)\n",
        "\n",
        "# Gauss-Newton loop\n",
        "q = np.random.randn(4)\n",
        "q = q / np.linalg.norm(q)\n",
        "\n",
        "ϕ = anp.ones(3)\n",
        "iter = 0\n",
        "\n",
        "while anp.max(anp.abs(ϕ)) > 1e-8:\n",
        "    r = residual(q)\n",
        "    dr = jacobian(residual)(q)  # (30, 4)\n",
        "    Grad_r = dr @ G(q)               # (30, 3)\n",
        "    H = Grad_r.T @ Grad_r\n",
        "\n",
        "    if anp.linalg.cond(H) > 1e8:\n",
        "        print(\"Warning: ill-conditioned Hessian. Stopping.\")\n",
        "        break\n",
        "\n",
        "    ϕ = -anp.linalg.solve(H, Grad_r.T @ r)\n",
        "    dq = anp.concatenate([[anp.sqrt(1.0 - anp.dot(ϕ, ϕ))], ϕ])\n",
        "    q = L(q) @ dq\n",
        "    q = q / anp.linalg.norm(q)\n",
        "    iter += 1\n",
        "\n",
        "# Output results\n",
        "print(\"Iterations:\", iter)\n",
        "print(\"q - qtrue:\", q - qtrue)\n",
        "print(\"q + qtrue:\", q + qtrue)\n"
      ]
    }
  ]
}