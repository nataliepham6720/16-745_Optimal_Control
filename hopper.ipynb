{
  "nbformat": 4,
  "nbformat_minor": 0,
  "metadata": {
    "colab": {
      "provenance": [],
      "authorship_tag": "ABX9TyPdrJEXLZXJWgFIwlRoYibD",
      "include_colab_link": true
    },
    "kernelspec": {
      "name": "python3",
      "display_name": "Python 3"
    },
    "language_info": {
      "name": "python"
    }
  },
  "cells": [
    {
      "cell_type": "markdown",
      "metadata": {
        "id": "view-in-github",
        "colab_type": "text"
      },
      "source": [
        "<a href=\"https://colab.research.google.com/github/nataliepham6720/16-745_Optimal_Control/blob/main/hopper.ipynb\" target=\"_parent\"><img src=\"https://colab.research.google.com/assets/colab-badge.svg\" alt=\"Open In Colab\"/></a>"
      ]
    },
    {
      "cell_type": "code",
      "execution_count": null,
      "metadata": {
        "id": "KwjBYRchH3-_"
      },
      "outputs": [],
      "source": [
        "# Re-import necessary modules after code execution environment reset\n",
        "import numpy as np\n",
        "import meshcat\n",
        "import meshcat.geometry as g\n",
        "import meshcat.transformations as tf\n",
        "\n",
        "\n",
        "def kinematics(q):\n",
        "    return q[2:4]\n",
        "\n",
        "\n",
        "def visualize(vis, xtraj, dt):\n",
        "    n_leg = 100\n",
        "    r_body = 0.2\n",
        "    r_foot = 0.1\n",
        "    r_leg = 0.5 * r_foot\n",
        "\n",
        "    vis[\"/Background\"].set_property(\"visible\", True)\n",
        "    vis[\"/Background\"].set_property(\"top_color\", 0xFFFFFF)\n",
        "    vis[\"/Background\"].set_property(\"bottom_color\", 0xFFFFFF)\n",
        "    vis[\"/Axes\"].set_property(\"visible\", False)\n",
        "\n",
        "    vis[\"body\"].set_object(g.Sphere(r_body), g.MeshPhongMaterial(color=0x00FF00))\n",
        "    vis[\"foot\"].set_object(g.Sphere(r_foot), g.MeshPhongMaterial(color=0xFFA500))\n",
        "\n",
        "    for i in range(n_leg):\n",
        "        vis[f\"leg{i}\"].set_object(g.Sphere(r_leg), g.MeshPhongMaterial(color=0x000000))\n",
        "\n",
        "    anim = vis.animation()\n",
        "    for t in range(xtraj.shape[1]):\n",
        "        q = xtraj[:, t]\n",
        "        p_body = np.array([q[0], 0.0, q[1]])\n",
        "        p_foot = np.array([q[2], 0.0, q[3]])\n",
        "\n",
        "        dir_vec = np.array([q[2] - q[0], q[3] - q[1]])\n",
        "        norm_dir = np.linalg.norm(dir_vec)\n",
        "        if norm_dir == 0:\n",
        "            dir_unit = np.zeros(2)\n",
        "        else:\n",
        "            dir_unit = dir_vec / norm_dir\n",
        "        r_range = np.linspace(0, norm_dir, n_leg)\n",
        "\n",
        "        p_leg = [np.array([q[0] + s * dir_unit[0], 0.0, q[1] + s * dir_unit[1]]) for s in r_range]\n",
        "\n",
        "        z_shift = np.array([0.0, 0.0, r_foot])\n",
        "\n",
        "        with anim.at_frame(t):\n",
        "            vis[\"body\"].set_transform(tf.translation_matrix(p_body + z_shift))\n",
        "            vis[\"foot\"].set_transform(tf.translation_matrix(p_foot + z_shift))\n",
        "            for i in range(n_leg):\n",
        "                vis[f\"leg{i}\"].set_transform(tf.translation_matrix(p_leg[i] + z_shift))\n",
        "\n",
        "    vis.set_animation(anim)\n",
        "\n",
        "\n",
        "# Create visualizer\n",
        "vis = meshcat.Visualizer().open()\n"
      ]
    }
  ]
}