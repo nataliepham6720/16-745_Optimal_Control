{
  "nbformat": 4,
  "nbformat_minor": 0,
  "metadata": {
    "colab": {
      "provenance": [],
      "authorship_tag": "ABX9TyM7ykZfVn4N+WPZ7cl62xaI",
      "include_colab_link": true
    },
    "kernelspec": {
      "name": "python3",
      "display_name": "Python 3"
    },
    "language_info": {
      "name": "python"
    }
  },
  "cells": [
    {
      "cell_type": "markdown",
      "metadata": {
        "id": "view-in-github",
        "colab_type": "text"
      },
      "source": [
        "<a href=\"https://colab.research.google.com/github/nataliepham6720/16-745_Optimal_Control/blob/main/MPC.ipynb\" target=\"_parent\"><img src=\"https://colab.research.google.com/assets/colab-badge.svg\" alt=\"Open In Colab\"/></a>"
      ]
    },
    {
      "cell_type": "code",
      "source": [
        "import numpy as np\n",
        "import matplotlib.pyplot as plt\n",
        "from scipy.linalg import solve_discrete_are\n",
        "import osqp\n",
        "from scipy import sparse\n"
      ],
      "metadata": {
        "id": "Jyhls6EiFZEd"
      },
      "execution_count": 1,
      "outputs": []
    },
    {
      "cell_type": "code",
      "source": [
        "g = 9.81\n",
        "m = 1.0\n",
        "ell = 0.3\n",
        "J = 0.2 * m * ell**2\n",
        "\n",
        "umin = np.array([0.2 * m * g, 0.2 * m * g])\n",
        "umax = np.array([0.6 * m * g, 0.6 * m * g])\n",
        "\n",
        "h = 0.05  # time step"
      ],
      "metadata": {
        "id": "nzv86VEMFdl0"
      },
      "execution_count": 2,
      "outputs": []
    },
    {
      "cell_type": "code",
      "source": [
        "from autograd import jacobian\n",
        "import autograd.numpy as anp\n",
        "\n",
        "def quad_dynamics(x, u):\n",
        "    theta = x[2]\n",
        "    x_ddot = (1/m) * (u[0] + u[1]) * anp.sin(theta)\n",
        "    y_ddot = (1/m) * (u[0] + u[1]) * anp.cos(theta) - g\n",
        "    theta_ddot = (1/J) * (ell/2) * (u[1] - u[0])\n",
        "    return anp.array([x[3], x[4], x[5], x_ddot, y_ddot, theta_ddot])\n",
        "\n",
        "def quad_dynamics_rk4(x, u):\n",
        "    f1 = quad_dynamics(x, u)\n",
        "    f2 = quad_dynamics(x + 0.5 * h * f1, u)\n",
        "    f3 = quad_dynamics(x + 0.5 * h * f2, u)\n",
        "    f4 = quad_dynamics(x + h * f3, u)\n",
        "    return x + (h / 6.0) * (f1 + 2*f2 + 2*f3 + f4)"
      ],
      "metadata": {
        "id": "unw9cJ5nGQrr"
      },
      "execution_count": 5,
      "outputs": []
    },
    {
      "cell_type": "code",
      "source": [
        "x_hover = np.zeros(6)\n",
        "u_hover = np.array([0.5 * m * g, 0.5 * m * g])\n",
        "\n",
        "A = jacobian(lambda x: quad_dynamics_rk4(x, u_hover))(x_hover)\n",
        "B = jacobian(lambda u: quad_dynamics_rk4(x_hover, u))(u_hover)\n"
      ],
      "metadata": {
        "id": "3fQpWiGsFiEd"
      },
      "execution_count": 6,
      "outputs": []
    },
    {
      "cell_type": "code",
      "source": [
        "# Cost matrices\n",
        "Nx, Nu, Nh = 6, 2, 20\n",
        "Q = np.eye(Nx)\n",
        "Qn = np.eye(Nx)\n",
        "R = 0.01 * np.eye(Nu)\n",
        "P = solve_discrete_are(A, B, Q, R)\n",
        "\n",
        "# Build QP matrices\n",
        "def build_dynamics_constraints(A, B, Nx, Nu, Nh):\n",
        "    rows = []\n",
        "    for k in range(Nh):\n",
        "        # For step k:\n",
        "        # Row dims: Nx\n",
        "        # Columns dims: Nu*Nh + Nx*(Nh+1)\n",
        "\n",
        "        # Control inputs part\n",
        "        Bu = sparse.kron(sparse.eye(1, Nh, k), B)  # shape: Nx x (Nu*Nh)\n",
        "\n",
        "        # State inputs: -x_{k+1} + A x_k = 0\n",
        "        Axk = sparse.kron(sparse.eye(1, Nh+1, k), A)       # Nx x Nx*(Nh+1)\n",
        "        Ixkp1 = sparse.kron(sparse.eye(1, Nh+1, k+1), -sparse.eye(Nx))  # Nx x Nx*(Nh+1)\n",
        "        Bx = Axk + Ixkp1  # Nx x Nx*(Nh+1)\n",
        "\n",
        "        # Combine horizontally [Bu | Bx]\n",
        "        row = sparse.hstack([Bu, Bx])\n",
        "        rows.append(row)\n",
        "\n",
        "    C = sparse.vstack(rows)\n",
        "    return C\n",
        "\n",
        "C = build_dynamics_constraints(A, B, Nx, Nu, Nh)\n",
        "n_dyn = C.shape[0]\n",
        "\n",
        "# Total variable length\n",
        "N = Nu*Nh + Nx*(Nh+1)\n",
        "\n",
        "# U selects all controls u_k in first Nu*Nh vars\n",
        "U = sparse.hstack([\n",
        "    sparse.eye(Nu*Nh, Nu*Nh),\n",
        "    sparse.csc_matrix((Nu*Nh, Nx*(Nh+1)))\n",
        "], format='csc')\n",
        "\n",
        "# Theta selects theta = x[2] in all states x_0 ... x_{Nh}\n",
        "theta_selector = np.zeros((1, Nx))\n",
        "theta_selector[0, 2] = 1\n",
        "\n",
        "Theta = sparse.hstack([\n",
        "    sparse.csc_matrix((Nh, Nu*Nh)),\n",
        "    sparse.kron(sparse.eye(Nh), sparse.csc_matrix(theta_selector)),\n",
        "    sparse.csc_matrix((Nh, Nx))  # pad for the last state x_{Nh}\n",
        "], format='csc')\n",
        "\n",
        "\n",
        "D = sparse.vstack([C, U, Theta], format='csc')\n",
        "lb = np.hstack([np.zeros(n_dyn), np.tile(umin - u_hover, Nh), -0.2 * np.ones(Nh)])\n",
        "ub = np.hstack([np.zeros(n_dyn), np.tile(umax - u_hover, Nh), 0.2 * np.ones(Nh)])\n",
        "\n",
        "\n",
        "# QP cost matrix H\n",
        "H = sparse.block_diag(\n",
        "    [sparse.block_diag([R, Q]) for _ in range(Nh - 1)] + [sparse.block_diag([R, Qn])]\n",
        ")\n",
        "q = np.zeros(H.shape[0])\n",
        "\n",
        "print(\"C shape:\", C.shape)\n",
        "print(\"U shape:\", U.shape)\n",
        "print(\"Theta shape:\", Theta.shape)\n",
        "print(\"D shape:\", D.shape)"
      ],
      "metadata": {
        "id": "0P5bwQxaG0IM",
        "outputId": "3adb9177-bd72-4431-b9ac-c562855cc303",
        "colab": {
          "base_uri": "https://localhost:8080/"
        }
      },
      "execution_count": 22,
      "outputs": [
        {
          "output_type": "stream",
          "name": "stdout",
          "text": [
            "C shape: (120, 166)\n",
            "U shape: (40, 166)\n",
            "Theta shape: (20, 166)\n",
            "D shape: (180, 166)\n"
          ]
        }
      ]
    },
    {
      "cell_type": "code",
      "source": [
        "\n",
        "# MPC setup\n",
        "print(\"Type of D before setup:\", type(D))\n",
        "print(\"Shape of D before setup:\", D.shape)\n",
        "\n",
        "prob = osqp.OSQP()\n",
        "prob.setup(P=H.tocsc(), q=b, A=D.tocsc(), l=lb, u=ub, verbose=True)\n",
        "prob = osqp.OSQP()\n",
        "prob.setup(P=H, q=q, A=D, l=lb, u=ub, verbose=False, eps_abs=1e-8, eps_rel=1e-8, polish=True)\n"
      ],
      "metadata": {
        "id": "8Nnc3xuUKMd4"
      },
      "execution_count": null,
      "outputs": []
    },
    {
      "cell_type": "code",
      "source": [
        "def mpc_controller(t, x, xref):\n",
        "    # update bounds and cost\n",
        "    lb[:Nx] = -A @ x\n",
        "    ub[:Nx] = -A @ x\n",
        "    for j in range(Nh - 1):\n",
        "        b[Nu + j*(Nx+Nu):Nu + j*(Nx+Nu) + Nx] = -Q @ xref\n",
        "    b[Nu + (Nh-1)*(Nx+Nu):] = -Qn @ xref\n",
        "\n",
        "    prob.update(q=b, l=lb, u=ub)\n",
        "    res = prob.solve()\n",
        "    du = res.x[:Nu]\n",
        "    return u_hover + du\n"
      ],
      "metadata": {
        "id": "xAgV6Pj2FqDN"
      },
      "execution_count": 23,
      "outputs": []
    },
    {
      "cell_type": "code",
      "source": [
        "def closed_loop(x0, controller, N):\n",
        "    xhist = np.zeros((len(x0), N))\n",
        "    uhist = np.zeros((2, N-1))\n",
        "    xhist[:, 0] = x0\n",
        "    uhist[:, 0] = controller(0, x0)\n",
        "\n",
        "    for k in range(1, N):\n",
        "        u = controller(k, xhist[:, k-1])\n",
        "        u = np.clip(u, umin, umax)\n",
        "        uhist[:, k-1] = u\n",
        "        xhist[:, k] = quad_dynamics_rk4(xhist[:, k-1], u)\n",
        "\n",
        "    return xhist, uhist\n"
      ],
      "metadata": {
        "id": "zMvqsYm-Fq9k"
      },
      "execution_count": 24,
      "outputs": []
    },
    {
      "cell_type": "code",
      "source": [
        "Tfinal = 10.0\n",
        "Nt = int(Tfinal/h) + 1\n",
        "thist = np.arange(0, h*Nt, h)\n",
        "x_ref = np.array([0, 1, 0, 0, 0, 0])\n",
        "x0 = np.array([10, 2, 0, 0, 0, 0])\n",
        "\n",
        "xhist1, uhist1 = closed_loop(x0, lambda t, x: lqr_controller(t, x, K, x_ref), Nt)\n",
        "xhist2, uhist2 = closed_loop(x0, lambda t, x: mpc_controller(t, x, x_ref), Nt)\n",
        "\n",
        "plt.plot(thist, xhist1[0], label=\"x LQR\")\n",
        "plt.plot(thist, xhist2[0], label=\"x MPC\")\n",
        "plt.legend(); plt.xlabel(\"Time\"); plt.show()\n"
      ],
      "metadata": {
        "id": "GrXvvrypFskp",
        "outputId": "92d1b676-ea4c-48b6-f13b-aa0dc737626f",
        "colab": {
          "base_uri": "https://localhost:8080/",
          "height": 426
        }
      },
      "execution_count": 25,
      "outputs": [
        {
          "output_type": "error",
          "ename": "AttributeError",
          "evalue": "'NoneType' object has no attribute 'update_data_vec'",
          "traceback": [
            "\u001b[0;31m---------------------------------------------------------------------------\u001b[0m",
            "\u001b[0;31mAttributeError\u001b[0m                            Traceback (most recent call last)",
            "\u001b[0;32m/tmp/ipython-input-25-3771478999.py\u001b[0m in \u001b[0;36m<cell line: 0>\u001b[0;34m()\u001b[0m\n\u001b[1;32m      6\u001b[0m \u001b[0;34m\u001b[0m\u001b[0m\n\u001b[1;32m      7\u001b[0m \u001b[0mxhist1\u001b[0m\u001b[0;34m,\u001b[0m \u001b[0muhist1\u001b[0m \u001b[0;34m=\u001b[0m \u001b[0mclosed_loop\u001b[0m\u001b[0;34m(\u001b[0m\u001b[0mx0\u001b[0m\u001b[0;34m,\u001b[0m \u001b[0;32mlambda\u001b[0m \u001b[0mt\u001b[0m\u001b[0;34m,\u001b[0m \u001b[0mx\u001b[0m\u001b[0;34m:\u001b[0m \u001b[0mlqr_controller\u001b[0m\u001b[0;34m(\u001b[0m\u001b[0mt\u001b[0m\u001b[0;34m,\u001b[0m \u001b[0mx\u001b[0m\u001b[0;34m,\u001b[0m \u001b[0mK\u001b[0m\u001b[0;34m,\u001b[0m \u001b[0mx_ref\u001b[0m\u001b[0;34m)\u001b[0m\u001b[0;34m,\u001b[0m \u001b[0mNt\u001b[0m\u001b[0;34m)\u001b[0m\u001b[0;34m\u001b[0m\u001b[0;34m\u001b[0m\u001b[0m\n\u001b[0;32m----> 8\u001b[0;31m \u001b[0mxhist2\u001b[0m\u001b[0;34m,\u001b[0m \u001b[0muhist2\u001b[0m \u001b[0;34m=\u001b[0m \u001b[0mclosed_loop\u001b[0m\u001b[0;34m(\u001b[0m\u001b[0mx0\u001b[0m\u001b[0;34m,\u001b[0m \u001b[0;32mlambda\u001b[0m \u001b[0mt\u001b[0m\u001b[0;34m,\u001b[0m \u001b[0mx\u001b[0m\u001b[0;34m:\u001b[0m \u001b[0mmpc_controller\u001b[0m\u001b[0;34m(\u001b[0m\u001b[0mt\u001b[0m\u001b[0;34m,\u001b[0m \u001b[0mx\u001b[0m\u001b[0;34m,\u001b[0m \u001b[0mx_ref\u001b[0m\u001b[0;34m)\u001b[0m\u001b[0;34m,\u001b[0m \u001b[0mNt\u001b[0m\u001b[0;34m)\u001b[0m\u001b[0;34m\u001b[0m\u001b[0;34m\u001b[0m\u001b[0m\n\u001b[0m\u001b[1;32m      9\u001b[0m \u001b[0;34m\u001b[0m\u001b[0m\n\u001b[1;32m     10\u001b[0m \u001b[0mplt\u001b[0m\u001b[0;34m.\u001b[0m\u001b[0mplot\u001b[0m\u001b[0;34m(\u001b[0m\u001b[0mthist\u001b[0m\u001b[0;34m,\u001b[0m \u001b[0mxhist1\u001b[0m\u001b[0;34m[\u001b[0m\u001b[0;36m0\u001b[0m\u001b[0;34m]\u001b[0m\u001b[0;34m,\u001b[0m \u001b[0mlabel\u001b[0m\u001b[0;34m=\u001b[0m\u001b[0;34m\"x LQR\"\u001b[0m\u001b[0;34m)\u001b[0m\u001b[0;34m\u001b[0m\u001b[0;34m\u001b[0m\u001b[0m\n",
            "\u001b[0;32m/tmp/ipython-input-24-2200699090.py\u001b[0m in \u001b[0;36mclosed_loop\u001b[0;34m(x0, controller, N)\u001b[0m\n\u001b[1;32m      3\u001b[0m     \u001b[0muhist\u001b[0m \u001b[0;34m=\u001b[0m \u001b[0mnp\u001b[0m\u001b[0;34m.\u001b[0m\u001b[0mzeros\u001b[0m\u001b[0;34m(\u001b[0m\u001b[0;34m(\u001b[0m\u001b[0;36m2\u001b[0m\u001b[0;34m,\u001b[0m \u001b[0mN\u001b[0m\u001b[0;34m-\u001b[0m\u001b[0;36m1\u001b[0m\u001b[0;34m)\u001b[0m\u001b[0;34m)\u001b[0m\u001b[0;34m\u001b[0m\u001b[0;34m\u001b[0m\u001b[0m\n\u001b[1;32m      4\u001b[0m     \u001b[0mxhist\u001b[0m\u001b[0;34m[\u001b[0m\u001b[0;34m:\u001b[0m\u001b[0;34m,\u001b[0m \u001b[0;36m0\u001b[0m\u001b[0;34m]\u001b[0m \u001b[0;34m=\u001b[0m \u001b[0mx0\u001b[0m\u001b[0;34m\u001b[0m\u001b[0;34m\u001b[0m\u001b[0m\n\u001b[0;32m----> 5\u001b[0;31m     \u001b[0muhist\u001b[0m\u001b[0;34m[\u001b[0m\u001b[0;34m:\u001b[0m\u001b[0;34m,\u001b[0m \u001b[0;36m0\u001b[0m\u001b[0;34m]\u001b[0m \u001b[0;34m=\u001b[0m \u001b[0mcontroller\u001b[0m\u001b[0;34m(\u001b[0m\u001b[0;36m0\u001b[0m\u001b[0;34m,\u001b[0m \u001b[0mx0\u001b[0m\u001b[0;34m)\u001b[0m\u001b[0;34m\u001b[0m\u001b[0;34m\u001b[0m\u001b[0m\n\u001b[0m\u001b[1;32m      6\u001b[0m \u001b[0;34m\u001b[0m\u001b[0m\n\u001b[1;32m      7\u001b[0m     \u001b[0;32mfor\u001b[0m \u001b[0mk\u001b[0m \u001b[0;32min\u001b[0m \u001b[0mrange\u001b[0m\u001b[0;34m(\u001b[0m\u001b[0;36m1\u001b[0m\u001b[0;34m,\u001b[0m \u001b[0mN\u001b[0m\u001b[0;34m)\u001b[0m\u001b[0;34m:\u001b[0m\u001b[0;34m\u001b[0m\u001b[0;34m\u001b[0m\u001b[0m\n",
            "\u001b[0;32m/tmp/ipython-input-25-3771478999.py\u001b[0m in \u001b[0;36m<lambda>\u001b[0;34m(t, x)\u001b[0m\n\u001b[1;32m      6\u001b[0m \u001b[0;34m\u001b[0m\u001b[0m\n\u001b[1;32m      7\u001b[0m \u001b[0mxhist1\u001b[0m\u001b[0;34m,\u001b[0m \u001b[0muhist1\u001b[0m \u001b[0;34m=\u001b[0m \u001b[0mclosed_loop\u001b[0m\u001b[0;34m(\u001b[0m\u001b[0mx0\u001b[0m\u001b[0;34m,\u001b[0m \u001b[0;32mlambda\u001b[0m \u001b[0mt\u001b[0m\u001b[0;34m,\u001b[0m \u001b[0mx\u001b[0m\u001b[0;34m:\u001b[0m \u001b[0mlqr_controller\u001b[0m\u001b[0;34m(\u001b[0m\u001b[0mt\u001b[0m\u001b[0;34m,\u001b[0m \u001b[0mx\u001b[0m\u001b[0;34m,\u001b[0m \u001b[0mK\u001b[0m\u001b[0;34m,\u001b[0m \u001b[0mx_ref\u001b[0m\u001b[0;34m)\u001b[0m\u001b[0;34m,\u001b[0m \u001b[0mNt\u001b[0m\u001b[0;34m)\u001b[0m\u001b[0;34m\u001b[0m\u001b[0;34m\u001b[0m\u001b[0m\n\u001b[0;32m----> 8\u001b[0;31m \u001b[0mxhist2\u001b[0m\u001b[0;34m,\u001b[0m \u001b[0muhist2\u001b[0m \u001b[0;34m=\u001b[0m \u001b[0mclosed_loop\u001b[0m\u001b[0;34m(\u001b[0m\u001b[0mx0\u001b[0m\u001b[0;34m,\u001b[0m \u001b[0;32mlambda\u001b[0m \u001b[0mt\u001b[0m\u001b[0;34m,\u001b[0m \u001b[0mx\u001b[0m\u001b[0;34m:\u001b[0m \u001b[0mmpc_controller\u001b[0m\u001b[0;34m(\u001b[0m\u001b[0mt\u001b[0m\u001b[0;34m,\u001b[0m \u001b[0mx\u001b[0m\u001b[0;34m,\u001b[0m \u001b[0mx_ref\u001b[0m\u001b[0;34m)\u001b[0m\u001b[0;34m,\u001b[0m \u001b[0mNt\u001b[0m\u001b[0;34m)\u001b[0m\u001b[0;34m\u001b[0m\u001b[0;34m\u001b[0m\u001b[0m\n\u001b[0m\u001b[1;32m      9\u001b[0m \u001b[0;34m\u001b[0m\u001b[0m\n\u001b[1;32m     10\u001b[0m \u001b[0mplt\u001b[0m\u001b[0;34m.\u001b[0m\u001b[0mplot\u001b[0m\u001b[0;34m(\u001b[0m\u001b[0mthist\u001b[0m\u001b[0;34m,\u001b[0m \u001b[0mxhist1\u001b[0m\u001b[0;34m[\u001b[0m\u001b[0;36m0\u001b[0m\u001b[0;34m]\u001b[0m\u001b[0;34m,\u001b[0m \u001b[0mlabel\u001b[0m\u001b[0;34m=\u001b[0m\u001b[0;34m\"x LQR\"\u001b[0m\u001b[0;34m)\u001b[0m\u001b[0;34m\u001b[0m\u001b[0;34m\u001b[0m\u001b[0m\n",
            "\u001b[0;32m/tmp/ipython-input-23-1237336112.py\u001b[0m in \u001b[0;36mmpc_controller\u001b[0;34m(t, x, xref)\u001b[0m\n\u001b[1;32m      7\u001b[0m     \u001b[0mb\u001b[0m\u001b[0;34m[\u001b[0m\u001b[0mNu\u001b[0m \u001b[0;34m+\u001b[0m \u001b[0;34m(\u001b[0m\u001b[0mNh\u001b[0m\u001b[0;34m-\u001b[0m\u001b[0;36m1\u001b[0m\u001b[0;34m)\u001b[0m\u001b[0;34m*\u001b[0m\u001b[0;34m(\u001b[0m\u001b[0mNx\u001b[0m\u001b[0;34m+\u001b[0m\u001b[0mNu\u001b[0m\u001b[0;34m)\u001b[0m\u001b[0;34m:\u001b[0m\u001b[0;34m]\u001b[0m \u001b[0;34m=\u001b[0m \u001b[0;34m-\u001b[0m\u001b[0mQn\u001b[0m \u001b[0;34m@\u001b[0m \u001b[0mxref\u001b[0m\u001b[0;34m\u001b[0m\u001b[0;34m\u001b[0m\u001b[0m\n\u001b[1;32m      8\u001b[0m \u001b[0;34m\u001b[0m\u001b[0m\n\u001b[0;32m----> 9\u001b[0;31m     \u001b[0mprob\u001b[0m\u001b[0;34m.\u001b[0m\u001b[0mupdate\u001b[0m\u001b[0;34m(\u001b[0m\u001b[0mq\u001b[0m\u001b[0;34m=\u001b[0m\u001b[0mb\u001b[0m\u001b[0;34m,\u001b[0m \u001b[0ml\u001b[0m\u001b[0;34m=\u001b[0m\u001b[0mlb\u001b[0m\u001b[0;34m,\u001b[0m \u001b[0mu\u001b[0m\u001b[0;34m=\u001b[0m\u001b[0mub\u001b[0m\u001b[0;34m)\u001b[0m\u001b[0;34m\u001b[0m\u001b[0;34m\u001b[0m\u001b[0m\n\u001b[0m\u001b[1;32m     10\u001b[0m     \u001b[0mres\u001b[0m \u001b[0;34m=\u001b[0m \u001b[0mprob\u001b[0m\u001b[0;34m.\u001b[0m\u001b[0msolve\u001b[0m\u001b[0;34m(\u001b[0m\u001b[0;34m)\u001b[0m\u001b[0;34m\u001b[0m\u001b[0;34m\u001b[0m\u001b[0m\n\u001b[1;32m     11\u001b[0m     \u001b[0mdu\u001b[0m \u001b[0;34m=\u001b[0m \u001b[0mres\u001b[0m\u001b[0;34m.\u001b[0m\u001b[0mx\u001b[0m\u001b[0;34m[\u001b[0m\u001b[0;34m:\u001b[0m\u001b[0mNu\u001b[0m\u001b[0;34m]\u001b[0m\u001b[0;34m\u001b[0m\u001b[0;34m\u001b[0m\u001b[0m\n",
            "\u001b[0;32m/usr/local/lib/python3.11/dist-packages/osqp/interface.py\u001b[0m in \u001b[0;36mupdate\u001b[0;34m(self, **kwargs)\u001b[0m\n\u001b[1;32m    338\u001b[0m \u001b[0;34m\u001b[0m\u001b[0m\n\u001b[1;32m    339\u001b[0m         \u001b[0;32mif\u001b[0m \u001b[0mq\u001b[0m \u001b[0;32mis\u001b[0m \u001b[0;32mnot\u001b[0m \u001b[0;32mNone\u001b[0m \u001b[0;32mor\u001b[0m \u001b[0ml\u001b[0m \u001b[0;32mis\u001b[0m \u001b[0;32mnot\u001b[0m \u001b[0;32mNone\u001b[0m \u001b[0;32mor\u001b[0m \u001b[0mu\u001b[0m \u001b[0;32mis\u001b[0m \u001b[0;32mnot\u001b[0m \u001b[0;32mNone\u001b[0m\u001b[0;34m:\u001b[0m\u001b[0;34m\u001b[0m\u001b[0;34m\u001b[0m\u001b[0m\n\u001b[0;32m--> 340\u001b[0;31m             \u001b[0mself\u001b[0m\u001b[0;34m.\u001b[0m\u001b[0m_solver\u001b[0m\u001b[0;34m.\u001b[0m\u001b[0mupdate_data_vec\u001b[0m\u001b[0;34m(\u001b[0m\u001b[0mq\u001b[0m\u001b[0;34m=\u001b[0m\u001b[0mq\u001b[0m\u001b[0;34m,\u001b[0m \u001b[0ml\u001b[0m\u001b[0;34m=\u001b[0m\u001b[0ml\u001b[0m\u001b[0;34m,\u001b[0m \u001b[0mu\u001b[0m\u001b[0;34m=\u001b[0m\u001b[0mu\u001b[0m\u001b[0;34m)\u001b[0m\u001b[0;34m\u001b[0m\u001b[0;34m\u001b[0m\u001b[0m\n\u001b[0m\u001b[1;32m    341\u001b[0m         \u001b[0;32mif\u001b[0m \u001b[0;34m'Px'\u001b[0m \u001b[0;32min\u001b[0m \u001b[0mkwargs\u001b[0m \u001b[0;32mor\u001b[0m \u001b[0;34m'Px_idx'\u001b[0m \u001b[0;32min\u001b[0m \u001b[0mkwargs\u001b[0m \u001b[0;32mor\u001b[0m \u001b[0;34m'Ax'\u001b[0m \u001b[0;32min\u001b[0m \u001b[0mkwargs\u001b[0m \u001b[0;32mor\u001b[0m \u001b[0;34m'Ax_idx'\u001b[0m \u001b[0;32min\u001b[0m \u001b[0mkwargs\u001b[0m\u001b[0;34m:\u001b[0m\u001b[0;34m\u001b[0m\u001b[0;34m\u001b[0m\u001b[0m\n\u001b[1;32m    342\u001b[0m             self._solver.update_data_mat(\n",
            "\u001b[0;31mAttributeError\u001b[0m: 'NoneType' object has no attribute 'update_data_vec'"
          ]
        }
      ]
    },
    {
      "cell_type": "code",
      "source": [
        "!pip install meshcat spatialmath-python"
      ],
      "metadata": {
        "id": "S3R1NWOdF04o",
        "outputId": "d1c0ed98-7a81-4d85-ea73-1dfd14f9f35d",
        "colab": {
          "base_uri": "https://localhost:8080/"
        }
      },
      "execution_count": 26,
      "outputs": [
        {
          "output_type": "stream",
          "name": "stdout",
          "text": [
            "Requirement already satisfied: meshcat in /usr/local/lib/python3.11/dist-packages (0.3.2)\n",
            "Collecting spatialmath-python\n",
            "  Downloading spatialmath_python-1.1.14-py3-none-any.whl.metadata (17 kB)\n",
            "Requirement already satisfied: ipython>=5 in /usr/local/lib/python3.11/dist-packages (from meshcat) (7.34.0)\n",
            "Requirement already satisfied: u-msgpack-python>=2.4.1 in /usr/local/lib/python3.11/dist-packages (from meshcat) (2.8.0)\n",
            "Requirement already satisfied: numpy>=1.14.0 in /usr/local/lib/python3.11/dist-packages (from meshcat) (2.0.2)\n",
            "Requirement already satisfied: tornado>=4.0.0 in /usr/local/lib/python3.11/dist-packages (from meshcat) (6.4.2)\n",
            "Requirement already satisfied: pyzmq>=17.0.0 in /usr/local/lib/python3.11/dist-packages (from meshcat) (24.0.1)\n",
            "Requirement already satisfied: pyngrok>=4.1.6 in /usr/local/lib/python3.11/dist-packages (from meshcat) (7.2.11)\n",
            "Requirement already satisfied: pillow>=7.0.0 in /usr/local/lib/python3.11/dist-packages (from meshcat) (11.2.1)\n",
            "Requirement already satisfied: scipy in /usr/local/lib/python3.11/dist-packages (from spatialmath-python) (1.15.3)\n",
            "Requirement already satisfied: matplotlib in /usr/local/lib/python3.11/dist-packages (from spatialmath-python) (3.10.0)\n",
            "Collecting ansitable (from spatialmath-python)\n",
            "  Downloading ansitable-0.11.4-py3-none-any.whl.metadata (28 kB)\n",
            "Requirement already satisfied: typing-extensions in /usr/local/lib/python3.11/dist-packages (from spatialmath-python) (4.14.0)\n",
            "Collecting pre-commit (from spatialmath-python)\n",
            "  Downloading pre_commit-4.2.0-py2.py3-none-any.whl.metadata (1.3 kB)\n",
            "Requirement already satisfied: setuptools>=18.5 in /usr/local/lib/python3.11/dist-packages (from ipython>=5->meshcat) (75.2.0)\n",
            "Requirement already satisfied: jedi>=0.16 in /usr/local/lib/python3.11/dist-packages (from ipython>=5->meshcat) (0.19.2)\n",
            "Requirement already satisfied: decorator in /usr/local/lib/python3.11/dist-packages (from ipython>=5->meshcat) (4.4.2)\n",
            "Requirement already satisfied: pickleshare in /usr/local/lib/python3.11/dist-packages (from ipython>=5->meshcat) (0.7.5)\n",
            "Requirement already satisfied: traitlets>=4.2 in /usr/local/lib/python3.11/dist-packages (from ipython>=5->meshcat) (5.7.1)\n",
            "Requirement already satisfied: prompt-toolkit!=3.0.0,!=3.0.1,<3.1.0,>=2.0.0 in /usr/local/lib/python3.11/dist-packages (from ipython>=5->meshcat) (3.0.51)\n",
            "Requirement already satisfied: pygments in /usr/local/lib/python3.11/dist-packages (from ipython>=5->meshcat) (2.19.1)\n",
            "Requirement already satisfied: backcall in /usr/local/lib/python3.11/dist-packages (from ipython>=5->meshcat) (0.2.0)\n",
            "Requirement already satisfied: matplotlib-inline in /usr/local/lib/python3.11/dist-packages (from ipython>=5->meshcat) (0.1.7)\n",
            "Requirement already satisfied: pexpect>4.3 in /usr/local/lib/python3.11/dist-packages (from ipython>=5->meshcat) (4.9.0)\n",
            "Requirement already satisfied: PyYAML>=5.1 in /usr/local/lib/python3.11/dist-packages (from pyngrok>=4.1.6->meshcat) (6.0.2)\n",
            "Collecting colored (from ansitable->spatialmath-python)\n",
            "  Downloading colored-2.3.0-py3-none-any.whl.metadata (3.6 kB)\n",
            "Requirement already satisfied: contourpy>=1.0.1 in /usr/local/lib/python3.11/dist-packages (from matplotlib->spatialmath-python) (1.3.2)\n",
            "Requirement already satisfied: cycler>=0.10 in /usr/local/lib/python3.11/dist-packages (from matplotlib->spatialmath-python) (0.12.1)\n",
            "Requirement already satisfied: fonttools>=4.22.0 in /usr/local/lib/python3.11/dist-packages (from matplotlib->spatialmath-python) (4.58.4)\n",
            "Requirement already satisfied: kiwisolver>=1.3.1 in /usr/local/lib/python3.11/dist-packages (from matplotlib->spatialmath-python) (1.4.8)\n",
            "Requirement already satisfied: packaging>=20.0 in /usr/local/lib/python3.11/dist-packages (from matplotlib->spatialmath-python) (24.2)\n",
            "Requirement already satisfied: pyparsing>=2.3.1 in /usr/local/lib/python3.11/dist-packages (from matplotlib->spatialmath-python) (3.2.3)\n",
            "Requirement already satisfied: python-dateutil>=2.7 in /usr/local/lib/python3.11/dist-packages (from matplotlib->spatialmath-python) (2.9.0.post0)\n",
            "Collecting cfgv>=2.0.0 (from pre-commit->spatialmath-python)\n",
            "  Downloading cfgv-3.4.0-py2.py3-none-any.whl.metadata (8.5 kB)\n",
            "Collecting identify>=1.0.0 (from pre-commit->spatialmath-python)\n",
            "  Downloading identify-2.6.12-py2.py3-none-any.whl.metadata (4.4 kB)\n",
            "Collecting nodeenv>=0.11.1 (from pre-commit->spatialmath-python)\n",
            "  Downloading nodeenv-1.9.1-py2.py3-none-any.whl.metadata (21 kB)\n",
            "Collecting virtualenv>=20.10.0 (from pre-commit->spatialmath-python)\n",
            "  Downloading virtualenv-20.31.2-py3-none-any.whl.metadata (4.5 kB)\n",
            "Requirement already satisfied: parso<0.9.0,>=0.8.4 in /usr/local/lib/python3.11/dist-packages (from jedi>=0.16->ipython>=5->meshcat) (0.8.4)\n",
            "Requirement already satisfied: ptyprocess>=0.5 in /usr/local/lib/python3.11/dist-packages (from pexpect>4.3->ipython>=5->meshcat) (0.7.0)\n",
            "Requirement already satisfied: wcwidth in /usr/local/lib/python3.11/dist-packages (from prompt-toolkit!=3.0.0,!=3.0.1,<3.1.0,>=2.0.0->ipython>=5->meshcat) (0.2.13)\n",
            "Requirement already satisfied: six>=1.5 in /usr/local/lib/python3.11/dist-packages (from python-dateutil>=2.7->matplotlib->spatialmath-python) (1.17.0)\n",
            "Collecting distlib<1,>=0.3.7 (from virtualenv>=20.10.0->pre-commit->spatialmath-python)\n",
            "  Downloading distlib-0.3.9-py2.py3-none-any.whl.metadata (5.2 kB)\n",
            "Requirement already satisfied: filelock<4,>=3.12.2 in /usr/local/lib/python3.11/dist-packages (from virtualenv>=20.10.0->pre-commit->spatialmath-python) (3.18.0)\n",
            "Requirement already satisfied: platformdirs<5,>=3.9.1 in /usr/local/lib/python3.11/dist-packages (from virtualenv>=20.10.0->pre-commit->spatialmath-python) (4.3.8)\n",
            "Downloading spatialmath_python-1.1.14-py3-none-any.whl (193 kB)\n",
            "\u001b[2K   \u001b[90m━━━━━━━━━━━━━━━━━━━━━━━━━━━━━━━━━━━━━━━━\u001b[0m \u001b[32m193.1/193.1 kB\u001b[0m \u001b[31m6.9 MB/s\u001b[0m eta \u001b[36m0:00:00\u001b[0m\n",
            "\u001b[?25hDownloading ansitable-0.11.4-py3-none-any.whl (19 kB)\n",
            "Downloading pre_commit-4.2.0-py2.py3-none-any.whl (220 kB)\n",
            "\u001b[2K   \u001b[90m━━━━━━━━━━━━━━━━━━━━━━━━━━━━━━━━━━━━━━━━\u001b[0m \u001b[32m220.7/220.7 kB\u001b[0m \u001b[31m15.6 MB/s\u001b[0m eta \u001b[36m0:00:00\u001b[0m\n",
            "\u001b[?25hDownloading cfgv-3.4.0-py2.py3-none-any.whl (7.2 kB)\n",
            "Downloading identify-2.6.12-py2.py3-none-any.whl (99 kB)\n",
            "\u001b[2K   \u001b[90m━━━━━━━━━━━━━━━━━━━━━━━━━━━━━━━━━━━━━━━━\u001b[0m \u001b[32m99.1/99.1 kB\u001b[0m \u001b[31m8.3 MB/s\u001b[0m eta \u001b[36m0:00:00\u001b[0m\n",
            "\u001b[?25hDownloading nodeenv-1.9.1-py2.py3-none-any.whl (22 kB)\n",
            "Downloading virtualenv-20.31.2-py3-none-any.whl (6.1 MB)\n",
            "\u001b[2K   \u001b[90m━━━━━━━━━━━━━━━━━━━━━━━━━━━━━━━━━━━━━━━━\u001b[0m \u001b[32m6.1/6.1 MB\u001b[0m \u001b[31m61.5 MB/s\u001b[0m eta \u001b[36m0:00:00\u001b[0m\n",
            "\u001b[?25hDownloading colored-2.3.0-py3-none-any.whl (18 kB)\n",
            "Downloading distlib-0.3.9-py2.py3-none-any.whl (468 kB)\n",
            "\u001b[2K   \u001b[90m━━━━━━━━━━━━━━━━━━━━━━━━━━━━━━━━━━━━━━━━\u001b[0m \u001b[32m469.0/469.0 kB\u001b[0m \u001b[31m31.4 MB/s\u001b[0m eta \u001b[36m0:00:00\u001b[0m\n",
            "\u001b[?25hInstalling collected packages: distlib, virtualenv, nodeenv, identify, colored, cfgv, pre-commit, ansitable, spatialmath-python\n",
            "Successfully installed ansitable-0.11.4 cfgv-3.4.0 colored-2.3.0 distlib-0.3.9 identify-2.6.12 nodeenv-1.9.1 pre-commit-4.2.0 spatialmath-python-1.1.14 virtualenv-20.31.2\n"
          ]
        }
      ]
    },
    {
      "cell_type": "code",
      "source": [
        "import meshcat\n",
        "import meshcat.geometry as g\n",
        "import meshcat.transformations as tf\n",
        "\n",
        "vis = meshcat.Visualizer().open()\n",
        "\n",
        "def set_quadrotor_mesh(vis, color=[0, 0, 0], scale=1.0, obj_file=\"quadrotor_scaled.obj\"):\n",
        "    with open(obj_file, \"r\") as f:\n",
        "        obj_data = f.read()\n",
        "\n",
        "    vis[\"quadrotor\"].set_object(\n",
        "        g.ObjMeshGeometry.from_string(obj_data),\n",
        "        g.MeshPhongMaterial(color=color)\n",
        "    )\n",
        "\n",
        "\n",
        "def set_box_quadrotor(vis, color=[0, 0, 0], scale=1.0):\n",
        "    vis[\"quadrotor\"].set_object(\n",
        "        g.Box([0.3 * scale, 0.05 * scale, 0.01 * scale]),\n",
        "        g.MeshPhongMaterial(color=color)\n",
        "    )\n",
        "\n",
        "def visualize_planar_quadrotor(vis, xhist, h=0.05):\n",
        "    anim = meshcat.animation.Animation()\n",
        "\n",
        "    for k, x in enumerate(xhist):\n",
        "        with anim.at_frame(vis, k):\n",
        "            y, z = x[0], x[1]\n",
        "            theta = x[2]\n",
        "\n",
        "            T = tf.translation_matrix([0, y, z]) @ tf.rotation_matrix(-theta, [1, 0, 0])\n",
        "            vis[\"quadrotor\"].set_transform(T)\n",
        "\n",
        "    vis.set_animation(anim)\n",
        "\n",
        "# Choose either mesh or box\n",
        "#set_quadrotor_mesh(vis, color=[0.1, 0.2, 0.6], obj_file=\"quadrotor_scaled.obj\")\n",
        "set_box_quadrotor(vis, color=[0.1, 0.2, 0.6])  # simpler\n",
        "\n",
        "visualize_planar_quadrotor(vis, xhist2.T, h=h)\n",
        "\n",
        "from time import sleep\n",
        "\n",
        "visualize_planar_quadrotor(vis, xhist1.T, h=h)\n",
        "print(\"Showing LQR trajectory...\")\n",
        "sleep(12)\n",
        "\n",
        "visualize_planar_quadrotor(vis, xhist2.T, h=h)\n",
        "print(\"Showing MPC trajectory...\")\n",
        "\n"
      ],
      "metadata": {
        "id": "6MS3GkN-F5uF",
        "outputId": "06c210b0-0da9-4cd0-8c0a-8b9b7cc78a9e",
        "colab": {
          "base_uri": "https://localhost:8080/",
          "height": 1000
        }
      },
      "execution_count": 27,
      "outputs": [
        {
          "output_type": "stream",
          "name": "stdout",
          "text": [
            "\n",
            "Error processing line 1 of /usr/local/lib/python3.11/dist-packages/_numba_cuda_redirector.pth:\n",
            "\n",
            "  Traceback (most recent call last):\n",
            "    File \"<frozen site>\", line 201, in addpackage\n",
            "    File \"<string>\", line 1, in <module>\n",
            "    File \"/usr/local/lib/python3.11/dist-packages/_numba_cuda_redirector.py\", line 2, in <module>\n",
            "      import importlib.abc\n",
            "    File \"/usr/lib/python3.11/importlib/abc.py\", line 19, in <module>\n",
            "      from .resources.abc import ResourceReader, Traversable, TraversableResources\n",
            "    File \"/usr/lib/python3.11/importlib/resources/__init__.py\", line 3, in <module>\n",
            "      from ._common import (\n",
            "    File \"/usr/lib/python3.11/importlib/resources/_common.py\", line 2, in <module>\n",
            "      import pathlib\n",
            "    File \"/usr/local/lib/python3.11/dist-packages/pathlib.py\", line 10, in <module>\n",
            "      from collections import Sequence\n",
            "  ImportError: cannot import name 'Sequence' from 'collections' (/usr/lib/python3.11/collections/__init__.py)\n",
            "\n",
            "Remainder of file ignored\n",
            "Error processing line 1 of /usr/local/lib/python3.11/dist-packages/_rapids_dask_dependency.pth:\n",
            "\n",
            "  Traceback (most recent call last):\n",
            "    File \"<frozen site>\", line 201, in addpackage\n",
            "    File \"<string>\", line 1, in <module>\n",
            "    File \"/usr/local/lib/python3.11/dist-packages/rapids_dask_dependency/__init__.py\", line 3, in <module>\n",
            "      from .dask_loader import DaskFinder\n",
            "    File \"/usr/local/lib/python3.11/dist-packages/rapids_dask_dependency/dask_loader.py\", line 4, in <module>\n",
            "      import importlib.abc\n",
            "    File \"/usr/lib/python3.11/importlib/abc.py\", line 19, in <module>\n",
            "      from .resources.abc import ResourceReader, Traversable, TraversableResources\n",
            "    File \"/usr/lib/python3.11/importlib/resources/__init__.py\", line 3, in <module>\n",
            "      from ._common import (\n",
            "    File \"/usr/lib/python3.11/importlib/resources/_common.py\", line 2, in <module>\n",
            "      import pathlib\n",
            "    File \"/usr/local/lib/python3.11/dist-packages/pathlib.py\", line 10, in <module>\n",
            "      from collections import Sequence\n",
            "  ImportError: cannot import name 'Sequence' from 'collections' (/usr/lib/python3.11/collections/__init__.py)\n",
            "\n",
            "Remainder of file ignored\n",
            "Traceback (most recent call last):\n",
            "  File \"<frozen runpy>\", line 189, in _run_module_as_main\n",
            "  File \"<frozen runpy>\", line 112, in _get_module_details\n",
            "  File \"/usr/local/lib/python3.11/dist-packages/meshcat/__init__.py\", line 5, in <module>\n",
            "    from . import visualizer\n",
            "  File \"/usr/local/lib/python3.11/dist-packages/meshcat/visualizer.py\", line 7, in <module>\n",
            "    from IPython.display import HTML\n",
            "  File \"/usr/local/lib/python3.11/dist-packages/IPython/__init__.py\", line 56, in <module>\n",
            "    from .terminal.embed import embed\n",
            "  File \"/usr/local/lib/python3.11/dist-packages/IPython/terminal/embed.py\", line 13, in <module>\n",
            "    from IPython.core import magic_arguments\n",
            "  File \"/usr/local/lib/python3.11/dist-packages/IPython/core/magic_arguments.py\", line 60, in <module>\n",
            "    from IPython.utils.text import dedent\n",
            "  File \"/usr/local/lib/python3.11/dist-packages/IPython/utils/text.py\", line 17, in <module>\n",
            "    from pathlib import Path\n",
            "  File \"/usr/local/lib/python3.11/dist-packages/pathlib.py\", line 10, in <module>\n",
            "    from collections import Sequence\n",
            "ImportError: cannot import name 'Sequence' from 'collections' (/usr/lib/python3.11/collections/__init__.py)\n",
            "\n"
          ]
        },
        {
          "output_type": "error",
          "ename": "RuntimeError",
          "evalue": "the meshcat server process exited prematurely with exit code 1",
          "traceback": [
            "\u001b[0;31m---------------------------------------------------------------------------\u001b[0m",
            "\u001b[0;31mRuntimeError\u001b[0m                              Traceback (most recent call last)",
            "\u001b[0;32m/tmp/ipython-input-27-2378695117.py\u001b[0m in \u001b[0;36m<cell line: 0>\u001b[0;34m()\u001b[0m\n\u001b[1;32m      3\u001b[0m \u001b[0;32mimport\u001b[0m \u001b[0mmeshcat\u001b[0m\u001b[0;34m.\u001b[0m\u001b[0mtransformations\u001b[0m \u001b[0;32mas\u001b[0m \u001b[0mtf\u001b[0m\u001b[0;34m\u001b[0m\u001b[0;34m\u001b[0m\u001b[0m\n\u001b[1;32m      4\u001b[0m \u001b[0;34m\u001b[0m\u001b[0m\n\u001b[0;32m----> 5\u001b[0;31m \u001b[0mvis\u001b[0m \u001b[0;34m=\u001b[0m \u001b[0mmeshcat\u001b[0m\u001b[0;34m.\u001b[0m\u001b[0mVisualizer\u001b[0m\u001b[0;34m(\u001b[0m\u001b[0;34m)\u001b[0m\u001b[0;34m.\u001b[0m\u001b[0mopen\u001b[0m\u001b[0;34m(\u001b[0m\u001b[0;34m)\u001b[0m\u001b[0;34m\u001b[0m\u001b[0;34m\u001b[0m\u001b[0m\n\u001b[0m\u001b[1;32m      6\u001b[0m \u001b[0;34m\u001b[0m\u001b[0m\n\u001b[1;32m      7\u001b[0m \u001b[0;32mdef\u001b[0m \u001b[0mset_quadrotor_mesh\u001b[0m\u001b[0;34m(\u001b[0m\u001b[0mvis\u001b[0m\u001b[0;34m,\u001b[0m \u001b[0mcolor\u001b[0m\u001b[0;34m=\u001b[0m\u001b[0;34m[\u001b[0m\u001b[0;36m0\u001b[0m\u001b[0;34m,\u001b[0m \u001b[0;36m0\u001b[0m\u001b[0;34m,\u001b[0m \u001b[0;36m0\u001b[0m\u001b[0;34m]\u001b[0m\u001b[0;34m,\u001b[0m \u001b[0mscale\u001b[0m\u001b[0;34m=\u001b[0m\u001b[0;36m1.0\u001b[0m\u001b[0;34m,\u001b[0m \u001b[0mobj_file\u001b[0m\u001b[0;34m=\u001b[0m\u001b[0;34m\"quadrotor_scaled.obj\"\u001b[0m\u001b[0;34m)\u001b[0m\u001b[0;34m:\u001b[0m\u001b[0;34m\u001b[0m\u001b[0;34m\u001b[0m\u001b[0m\n",
            "\u001b[0;32m/usr/local/lib/python3.11/dist-packages/meshcat/visualizer.py\u001b[0m in \u001b[0;36m__init__\u001b[0;34m(self, zmq_url, window, server_args)\u001b[0m\n\u001b[1;32m     90\u001b[0m     \u001b[0;32mdef\u001b[0m \u001b[0m__init__\u001b[0m\u001b[0;34m(\u001b[0m\u001b[0mself\u001b[0m\u001b[0;34m,\u001b[0m \u001b[0mzmq_url\u001b[0m\u001b[0;34m=\u001b[0m\u001b[0;32mNone\u001b[0m\u001b[0;34m,\u001b[0m \u001b[0mwindow\u001b[0m\u001b[0;34m=\u001b[0m\u001b[0;32mNone\u001b[0m\u001b[0;34m,\u001b[0m \u001b[0mserver_args\u001b[0m\u001b[0;34m=\u001b[0m\u001b[0;34m[\u001b[0m\u001b[0;34m]\u001b[0m\u001b[0;34m)\u001b[0m\u001b[0;34m:\u001b[0m\u001b[0;34m\u001b[0m\u001b[0;34m\u001b[0m\u001b[0m\n\u001b[1;32m     91\u001b[0m         \u001b[0;32mif\u001b[0m \u001b[0mwindow\u001b[0m \u001b[0;32mis\u001b[0m \u001b[0;32mNone\u001b[0m\u001b[0;34m:\u001b[0m\u001b[0;34m\u001b[0m\u001b[0;34m\u001b[0m\u001b[0m\n\u001b[0;32m---> 92\u001b[0;31m             \u001b[0mself\u001b[0m\u001b[0;34m.\u001b[0m\u001b[0mwindow\u001b[0m \u001b[0;34m=\u001b[0m \u001b[0mViewerWindow\u001b[0m\u001b[0;34m(\u001b[0m\u001b[0mzmq_url\u001b[0m\u001b[0;34m=\u001b[0m\u001b[0mzmq_url\u001b[0m\u001b[0;34m,\u001b[0m \u001b[0mstart_server\u001b[0m\u001b[0;34m=\u001b[0m\u001b[0;34m(\u001b[0m\u001b[0mzmq_url\u001b[0m \u001b[0;32mis\u001b[0m \u001b[0;32mNone\u001b[0m\u001b[0;34m)\u001b[0m\u001b[0;34m,\u001b[0m \u001b[0mserver_args\u001b[0m\u001b[0;34m=\u001b[0m\u001b[0mserver_args\u001b[0m\u001b[0;34m)\u001b[0m\u001b[0;34m\u001b[0m\u001b[0;34m\u001b[0m\u001b[0m\n\u001b[0m\u001b[1;32m     93\u001b[0m         \u001b[0;32melse\u001b[0m\u001b[0;34m:\u001b[0m\u001b[0;34m\u001b[0m\u001b[0;34m\u001b[0m\u001b[0m\n\u001b[1;32m     94\u001b[0m             \u001b[0mself\u001b[0m\u001b[0;34m.\u001b[0m\u001b[0mwindow\u001b[0m \u001b[0;34m=\u001b[0m \u001b[0mwindow\u001b[0m\u001b[0;34m\u001b[0m\u001b[0;34m\u001b[0m\u001b[0m\n",
            "\u001b[0;32m/usr/local/lib/python3.11/dist-packages/meshcat/visualizer.py\u001b[0m in \u001b[0;36m__init__\u001b[0;34m(self, zmq_url, start_server, server_args)\u001b[0m\n\u001b[1;32m     18\u001b[0m     \u001b[0;32mdef\u001b[0m \u001b[0m__init__\u001b[0m\u001b[0;34m(\u001b[0m\u001b[0mself\u001b[0m\u001b[0;34m,\u001b[0m \u001b[0mzmq_url\u001b[0m\u001b[0;34m,\u001b[0m \u001b[0mstart_server\u001b[0m\u001b[0;34m,\u001b[0m \u001b[0mserver_args\u001b[0m\u001b[0;34m)\u001b[0m\u001b[0;34m:\u001b[0m\u001b[0;34m\u001b[0m\u001b[0;34m\u001b[0m\u001b[0m\n\u001b[1;32m     19\u001b[0m         \u001b[0;32mif\u001b[0m \u001b[0mstart_server\u001b[0m\u001b[0;34m:\u001b[0m\u001b[0;34m\u001b[0m\u001b[0;34m\u001b[0m\u001b[0m\n\u001b[0;32m---> 20\u001b[0;31m             self.server_proc, self.zmq_url, self.web_url = start_zmq_server_as_subprocess(\n\u001b[0m\u001b[1;32m     21\u001b[0m                 zmq_url=zmq_url, server_args=server_args)\n\u001b[1;32m     22\u001b[0m \u001b[0;34m\u001b[0m\u001b[0m\n",
            "\u001b[0;32m/usr/local/lib/python3.11/dist-packages/meshcat/servers/zmqserver.py\u001b[0m in \u001b[0;36mstart_zmq_server_as_subprocess\u001b[0;34m(zmq_url, server_args)\u001b[0m\n\u001b[1;32m     68\u001b[0m             \u001b[0mprint\u001b[0m\u001b[0;34m(\u001b[0m\u001b[0mouts\u001b[0m\u001b[0;34m.\u001b[0m\u001b[0mdecode\u001b[0m\u001b[0;34m(\u001b[0m\u001b[0;34m\"utf-8\"\u001b[0m\u001b[0;34m)\u001b[0m\u001b[0;34m)\u001b[0m\u001b[0;34m\u001b[0m\u001b[0;34m\u001b[0m\u001b[0m\n\u001b[1;32m     69\u001b[0m             \u001b[0mprint\u001b[0m\u001b[0;34m(\u001b[0m\u001b[0merrs\u001b[0m\u001b[0;34m.\u001b[0m\u001b[0mdecode\u001b[0m\u001b[0;34m(\u001b[0m\u001b[0;34m\"utf-8\"\u001b[0m\u001b[0;34m)\u001b[0m\u001b[0;34m)\u001b[0m\u001b[0;34m\u001b[0m\u001b[0;34m\u001b[0m\u001b[0m\n\u001b[0;32m---> 70\u001b[0;31m             \u001b[0;32mraise\u001b[0m \u001b[0mRuntimeError\u001b[0m\u001b[0;34m(\u001b[0m\u001b[0;34m\"the meshcat server process exited prematurely with exit code \"\u001b[0m \u001b[0;34m+\u001b[0m \u001b[0mstr\u001b[0m\u001b[0;34m(\u001b[0m\u001b[0mserver_proc\u001b[0m\u001b[0;34m.\u001b[0m\u001b[0mpoll\u001b[0m\u001b[0;34m(\u001b[0m\u001b[0;34m)\u001b[0m\u001b[0;34m)\u001b[0m\u001b[0;34m)\u001b[0m\u001b[0;34m\u001b[0m\u001b[0;34m\u001b[0m\u001b[0m\n\u001b[0m\u001b[1;32m     71\u001b[0m     \u001b[0mzmq_url\u001b[0m \u001b[0;34m=\u001b[0m \u001b[0mmatch_zmq_url\u001b[0m\u001b[0;34m(\u001b[0m\u001b[0mline\u001b[0m\u001b[0;34m)\u001b[0m\u001b[0;34m\u001b[0m\u001b[0;34m\u001b[0m\u001b[0m\n\u001b[1;32m     72\u001b[0m     \u001b[0mweb_url\u001b[0m \u001b[0;34m=\u001b[0m \u001b[0mmatch_web_url\u001b[0m\u001b[0;34m(\u001b[0m\u001b[0mserver_proc\u001b[0m\u001b[0;34m.\u001b[0m\u001b[0mstdout\u001b[0m\u001b[0;34m.\u001b[0m\u001b[0mreadline\u001b[0m\u001b[0;34m(\u001b[0m\u001b[0;34m)\u001b[0m\u001b[0;34m.\u001b[0m\u001b[0mstrip\u001b[0m\u001b[0;34m(\u001b[0m\u001b[0;34m)\u001b[0m\u001b[0;34m.\u001b[0m\u001b[0mdecode\u001b[0m\u001b[0;34m(\u001b[0m\u001b[0;34m\"utf-8\"\u001b[0m\u001b[0;34m)\u001b[0m\u001b[0;34m)\u001b[0m\u001b[0;34m\u001b[0m\u001b[0;34m\u001b[0m\u001b[0m\n",
            "\u001b[0;31mRuntimeError\u001b[0m: the meshcat server process exited prematurely with exit code 1"
          ]
        }
      ]
    }
  ]
}