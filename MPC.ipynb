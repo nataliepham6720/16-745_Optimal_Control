{
  "nbformat": 4,
  "nbformat_minor": 0,
  "metadata": {
    "colab": {
      "provenance": [],
      "authorship_tag": "ABX9TyOceXfyLONg3oLepLnpHhGG",
      "include_colab_link": true
    },
    "kernelspec": {
      "name": "python3",
      "display_name": "Python 3"
    },
    "language_info": {
      "name": "python"
    }
  },
  "cells": [
    {
      "cell_type": "markdown",
      "metadata": {
        "id": "view-in-github",
        "colab_type": "text"
      },
      "source": [
        "<a href=\"https://colab.research.google.com/github/nataliepham6720/16-745_Optimal_Control/blob/main/MPC.ipynb\" target=\"_parent\"><img src=\"https://colab.research.google.com/assets/colab-badge.svg\" alt=\"Open In Colab\"/></a>"
      ]
    },
    {
      "cell_type": "code",
      "source": [
        "import numpy as np\n",
        "import matplotlib.pyplot as plt\n",
        "from scipy.linalg import solve_discrete_are\n",
        "import osqp\n",
        "from scipy import sparse\n"
      ],
      "metadata": {
        "id": "Jyhls6EiFZEd"
      },
      "execution_count": 3,
      "outputs": []
    },
    {
      "cell_type": "code",
      "source": [
        "g = 9.81\n",
        "m = 1.0\n",
        "ell = 0.3\n",
        "J = 0.2 * m * ell**2\n",
        "\n",
        "umin = np.array([0.2 * m * g, 0.2 * m * g])\n",
        "umax = np.array([0.6 * m * g, 0.6 * m * g])\n",
        "\n",
        "h = 0.05  # time step"
      ],
      "metadata": {
        "id": "nzv86VEMFdl0"
      },
      "execution_count": 4,
      "outputs": []
    },
    {
      "cell_type": "code",
      "source": [
        "from autograd import jacobian\n",
        "import autograd.numpy as anp\n",
        "\n",
        "def quad_dynamics(x, u):\n",
        "    theta = x[2]\n",
        "    x_ddot = (1/m) * (u[0] + u[1]) * anp.sin(theta)\n",
        "    y_ddot = (1/m) * (u[0] + u[1]) * anp.cos(theta) - g\n",
        "    theta_ddot = (1/J) * (ell/2) * (u[1] - u[0])\n",
        "    return anp.array([x[3], x[4], x[5], x_ddot, y_ddot, theta_ddot])\n",
        "\n",
        "def quad_dynamics_rk4(x, u):\n",
        "    f1 = quad_dynamics(x, u)\n",
        "    f2 = quad_dynamics(x + 0.5 * h * f1, u)\n",
        "    f3 = quad_dynamics(x + 0.5 * h * f2, u)\n",
        "    f4 = quad_dynamics(x + h * f3, u)\n",
        "    return x + (h / 6.0) * (f1 + 2*f2 + 2*f3 + f4)"
      ],
      "metadata": {
        "id": "unw9cJ5nGQrr"
      },
      "execution_count": 5,
      "outputs": []
    },
    {
      "cell_type": "code",
      "source": [
        "x_hover = np.zeros(6)\n",
        "u_hover = np.array([0.5 * m * g, 0.5 * m * g])\n",
        "\n",
        "A = jacobian(lambda x: quad_dynamics_rk4(x, u_hover))(x_hover)\n",
        "B = jacobian(lambda u: quad_dynamics_rk4(x_hover, u))(u_hover)\n"
      ],
      "metadata": {
        "id": "3fQpWiGsFiEd"
      },
      "execution_count": 6,
      "outputs": []
    },
    {
      "cell_type": "code",
      "source": [
        "# Cost matrices\n",
        "Nx, Nu, Nh = 6, 2, 20\n",
        "Q = np.eye(Nx)\n",
        "Qn = np.eye(Nx)\n",
        "R = 0.01 * np.eye(Nu)\n",
        "P = solve_discrete_are(A, B, Q, R)\n",
        "\n",
        "# Build QP matrices\n",
        "def build_dynamics_constraints(A, B, Nx, Nu, Nh):\n",
        "    rows = []\n",
        "    for k in range(Nh):\n",
        "        # For step k:\n",
        "        # Row dims: Nx\n",
        "        # Columns dims: Nu*Nh + Nx*(Nh+1)\n",
        "\n",
        "        # Control inputs part\n",
        "        Bu = sparse.kron(sparse.eye(1, Nh, k), B)  # shape: Nx x (Nu*Nh)\n",
        "\n",
        "        # State inputs: -x_{k+1} + A x_k = 0\n",
        "        Axk = sparse.kron(sparse.eye(1, Nh+1, k), A)       # Nx x Nx*(Nh+1)\n",
        "        Ixkp1 = sparse.kron(sparse.eye(1, Nh+1, k+1), -sparse.eye(Nx))  # Nx x Nx*(Nh+1)\n",
        "        Bx = Axk + Ixkp1  # Nx x Nx*(Nh+1)\n",
        "\n",
        "        # Combine horizontally [Bu | Bx]\n",
        "        row = sparse.hstack([Bu, Bx])\n",
        "        rows.append(row)\n",
        "\n",
        "    C = sparse.vstack(rows)\n",
        "    return C\n",
        "\n",
        "C = build_dynamics_constraints(A, B, Nx, Nu, Nh)\n",
        "n_dyn = C.shape[0]\n",
        "\n",
        "# Total variable length\n",
        "N = Nu*Nh + Nx*(Nh+1)\n",
        "\n",
        "# U selects all controls u_k in first Nu*Nh vars\n",
        "U = sparse.hstack([\n",
        "    sparse.eye(Nu*Nh, Nu*Nh),\n",
        "    sparse.csc_matrix((Nu*Nh, Nx*(Nh+1)))\n",
        "], format='csc')\n",
        "\n",
        "# Theta selects theta = x[2] in all states x_0 ... x_{Nh}\n",
        "theta_selector = np.zeros((1, Nx))\n",
        "theta_selector[0, 2] = 1\n",
        "\n",
        "Theta = sparse.hstack([\n",
        "    sparse.csc_matrix((Nh, Nu*Nh)),\n",
        "    sparse.kron(sparse.eye(Nh), sparse.csc_matrix(theta_selector)),\n",
        "    sparse.csc_matrix((Nh, Nx))  # pad for the last state x_{Nh}\n",
        "], format='csc')\n",
        "\n",
        "\n",
        "D = sparse.vstack([C, U, Theta], format='csc')\n",
        "lb = np.hstack([np.zeros(n_dyn), np.tile(umin - u_hover, Nh), -0.2 * np.ones(Nh)])\n",
        "ub = np.hstack([np.zeros(n_dyn), np.tile(umax - u_hover, Nh), 0.2 * np.ones(Nh)])\n",
        "\n",
        "\n",
        "# QP cost matrix H\n",
        "H = sparse.block_diag(\n",
        "    [sparse.block_diag([R, Q]) for _ in range(Nh)] + [Qn]\n",
        ").tocsc()\n",
        "q = np.zeros(H.shape[0])\n",
        "\n",
        "# sanity check\n",
        "print(\"C shape:\", C.shape)\n",
        "print(\"U shape:\", U.shape)\n",
        "print(\"Theta shape:\", Theta.shape)\n",
        "print(\"D shape:\", D.shape)\n",
        "print(\"H shape:\", H.shape)  # must be (166, 166)\n",
        "print(\"q shape:\", q.shape)  # must be (166,)"
      ],
      "metadata": {
        "id": "0P5bwQxaG0IM",
        "outputId": "58b0d0ff-1376-4038-f6d2-eb3d7464586e",
        "colab": {
          "base_uri": "https://localhost:8080/"
        }
      },
      "execution_count": 18,
      "outputs": [
        {
          "output_type": "stream",
          "name": "stdout",
          "text": [
            "C shape: (120, 166)\n",
            "U shape: (40, 166)\n",
            "Theta shape: (20, 166)\n",
            "D shape: (180, 166)\n",
            "H shape: (166, 166)\n",
            "q shape: (166,)\n"
          ]
        }
      ]
    },
    {
      "cell_type": "code",
      "source": [
        "# MPC setup\n",
        "prob = osqp.OSQP()\n",
        "prob.setup(P=H, q=q, A=D, l=lb, u=ub, verbose=False, eps_abs=1e-8, eps_rel=1e-8, polish=True)\n"
      ],
      "metadata": {
        "id": "8Nnc3xuUKMd4"
      },
      "execution_count": 19,
      "outputs": []
    },
    {
      "cell_type": "code",
      "source": [
        "def mpc_controller(t, x, xref, q):\n",
        "    global lb, ub, prob\n",
        "\n",
        "    # First dynamics constraint from current state\n",
        "    lb[:Nx] = -A @ x\n",
        "    ub[:Nx] = -A @ x\n",
        "\n",
        "    # Reset q vector\n",
        "    q[:] = 0.0\n",
        "\n",
        "    for j in range(Nh - 1):\n",
        "        idx = Nu + j * (Nu + Nx) + Nu  # start of x block\n",
        "        q[idx:idx + Nx] = -Q @ xref\n",
        "\n",
        "    # Final terminal cost block\n",
        "    final_state_start = Nu + (Nh - 1)*(Nu + Nx) + Nu\n",
        "    q[final_state_start:final_state_start + Nx] = -Qn @ xref\n",
        "\n",
        "    prob.update(q=q, l=lb, u=ub)\n",
        "\n",
        "    result = prob.solve()\n",
        "    Δu = result.x[:Nu]\n",
        "    return u_hover + Δu\n"
      ],
      "metadata": {
        "id": "MxqVsXeSqWw5"
      },
      "execution_count": 24,
      "outputs": []
    },
    {
      "cell_type": "code",
      "source": [
        "def closed_loop(x0, controller, N):\n",
        "    xhist = np.zeros((len(x0), N))\n",
        "    uhist = np.zeros((2, N-1))\n",
        "    xhist[:, 0] = x0\n",
        "    uhist[:, 0] = controller(0, x0)\n",
        "\n",
        "    for k in range(1, N):\n",
        "        u = controller(k, xhist[:, k-1])\n",
        "        u = np.clip(u, umin, umax)\n",
        "        uhist[:, k-1] = u\n",
        "        xhist[:, k] = quad_dynamics_rk4(xhist[:, k-1], u)\n",
        "\n",
        "    return xhist, uhist\n"
      ],
      "metadata": {
        "id": "zMvqsYm-Fq9k"
      },
      "execution_count": 21,
      "outputs": []
    },
    {
      "cell_type": "code",
      "source": [
        "Tfinal = 10.0\n",
        "Nt = int(Tfinal/h) + 1\n",
        "thist = np.arange(0, h*Nt, h)\n",
        "x_ref = np.array([0, 1, 0, 0, 0, 0])\n",
        "x0 = np.array([10, 2, 0, 0, 0, 0])\n",
        "\n",
        "# xhist1, uhist1 = closed_loop(x0, lambda t, x: lqr_controller(t, x, K, x_ref), Nt)\n",
        "xhist2, uhist2 = closed_loop(x0, lambda t, x: mpc_controller(t, x, x_ref, q), Nt)\n",
        "\n",
        "# plt.plot(thist, xhist1[0], label=\"x LQR\")\n",
        "plt.plot(thist, xhist2[0], label=\"x MPC\")\n",
        "plt.legend(); plt.xlabel(\"Time\"); plt.show()\n"
      ],
      "metadata": {
        "id": "GrXvvrypFskp",
        "outputId": "19186548-231f-4b52-96f1-6b3f497b9f34",
        "colab": {
          "base_uri": "https://localhost:8080/",
          "height": 449
        }
      },
      "execution_count": 26,
      "outputs": [
        {
          "output_type": "display_data",
          "data": {
            "text/plain": [
              "<Figure size 640x480 with 1 Axes>"
            ],
            "image/png": "[encoded data removed]"
          },
          "metadata": {}
        }
      ]
    },
    {
      "cell_type": "code",
      "source": [
        "!pip install meshcat spatialmath-python"
      ],
      "metadata": {
        "id": "S3R1NWOdF04o",
        "outputId": "afc8ed82-c07c-4ddd-a563-48cadb41199e",
        "colab": {
          "base_uri": "https://localhost:8080/"
        }
      },
      "execution_count": 27,
      "outputs": [
        {
          "output_type": "stream",
          "name": "stdout",
          "text": [
            "Requirement already satisfied: meshcat in /usr/local/lib/python3.11/dist-packages (0.3.2)\n",
            "Requirement already satisfied: spatialmath-python in /usr/local/lib/python3.11/dist-packages (1.1.14)\n",
            "Requirement already satisfied: ipython>=5 in /usr/local/lib/python3.11/dist-packages (from meshcat) (7.34.0)\n",
            "Requirement already satisfied: u-msgpack-python>=2.4.1 in /usr/local/lib/python3.11/dist-packages (from meshcat) (2.8.0)\n",
            "Requirement already satisfied: numpy>=1.14.0 in /usr/local/lib/python3.11/dist-packages (from meshcat) (2.0.2)\n",
            "Requirement already satisfied: tornado>=4.0.0 in /usr/local/lib/python3.11/dist-packages (from meshcat) (6.4.2)\n",
            "Requirement already satisfied: pyzmq>=17.0.0 in /usr/local/lib/python3.11/dist-packages (from meshcat) (24.0.1)\n",
            "Requirement already satisfied: pyngrok>=4.1.6 in /usr/local/lib/python3.11/dist-packages (from meshcat) (7.2.11)\n",
            "Requirement already satisfied: pillow>=7.0.0 in /usr/local/lib/python3.11/dist-packages (from meshcat) (11.2.1)\n",
            "Requirement already satisfied: scipy in /usr/local/lib/python3.11/dist-packages (from spatialmath-python) (1.15.3)\n",
            "Requirement already satisfied: matplotlib in /usr/local/lib/python3.11/dist-packages (from spatialmath-python) (3.10.0)\n",
            "Requirement already satisfied: ansitable in /usr/local/lib/python3.11/dist-packages (from spatialmath-python) (0.11.4)\n",
            "Requirement already satisfied: typing-extensions in /usr/local/lib/python3.11/dist-packages (from spatialmath-python) (4.14.0)\n",
            "Requirement already satisfied: pre-commit in /usr/local/lib/python3.11/dist-packages (from spatialmath-python) (4.2.0)\n",
            "Requirement already satisfied: setuptools>=18.5 in /usr/local/lib/python3.11/dist-packages (from ipython>=5->meshcat) (75.2.0)\n",
            "Requirement already satisfied: jedi>=0.16 in /usr/local/lib/python3.11/dist-packages (from ipython>=5->meshcat) (0.19.2)\n",
            "Requirement already satisfied: decorator in /usr/local/lib/python3.11/dist-packages (from ipython>=5->meshcat) (4.4.2)\n",
            "Requirement already satisfied: pickleshare in /usr/local/lib/python3.11/dist-packages (from ipython>=5->meshcat) (0.7.5)\n",
            "Requirement already satisfied: traitlets>=4.2 in /usr/local/lib/python3.11/dist-packages (from ipython>=5->meshcat) (5.7.1)\n",
            "Requirement already satisfied: prompt-toolkit!=3.0.0,!=3.0.1,<3.1.0,>=2.0.0 in /usr/local/lib/python3.11/dist-packages (from ipython>=5->meshcat) (3.0.51)\n",
            "Requirement already satisfied: pygments in /usr/local/lib/python3.11/dist-packages (from ipython>=5->meshcat) (2.19.1)\n",
            "Requirement already satisfied: backcall in /usr/local/lib/python3.11/dist-packages (from ipython>=5->meshcat) (0.2.0)\n",
            "Requirement already satisfied: matplotlib-inline in /usr/local/lib/python3.11/dist-packages (from ipython>=5->meshcat) (0.1.7)\n",
            "Requirement already satisfied: pexpect>4.3 in /usr/local/lib/python3.11/dist-packages (from ipython>=5->meshcat) (4.9.0)\n",
            "Requirement already satisfied: PyYAML>=5.1 in /usr/local/lib/python3.11/dist-packages (from pyngrok>=4.1.6->meshcat) (6.0.2)\n",
            "Requirement already satisfied: colored in /usr/local/lib/python3.11/dist-packages (from ansitable->spatialmath-python) (2.3.0)\n",
            "Requirement already satisfied: contourpy>=1.0.1 in /usr/local/lib/python3.11/dist-packages (from matplotlib->spatialmath-python) (1.3.2)\n",
            "Requirement already satisfied: cycler>=0.10 in /usr/local/lib/python3.11/dist-packages (from matplotlib->spatialmath-python) (0.12.1)\n",
            "Requirement already satisfied: fonttools>=4.22.0 in /usr/local/lib/python3.11/dist-packages (from matplotlib->spatialmath-python) (4.58.4)\n",
            "Requirement already satisfied: kiwisolver>=1.3.1 in /usr/local/lib/python3.11/dist-packages (from matplotlib->spatialmath-python) (1.4.8)\n",
            "Requirement already satisfied: packaging>=20.0 in /usr/local/lib/python3.11/dist-packages (from matplotlib->spatialmath-python) (24.2)\n",
            "Requirement already satisfied: pyparsing>=2.3.1 in /usr/local/lib/python3.11/dist-packages (from matplotlib->spatialmath-python) (3.2.3)\n",
            "Requirement already satisfied: python-dateutil>=2.7 in /usr/local/lib/python3.11/dist-packages (from matplotlib->spatialmath-python) (2.9.0.post0)\n",
            "Requirement already satisfied: cfgv>=2.0.0 in /usr/local/lib/python3.11/dist-packages (from pre-commit->spatialmath-python) (3.4.0)\n",
            "Requirement already satisfied: identify>=1.0.0 in /usr/local/lib/python3.11/dist-packages (from pre-commit->spatialmath-python) (2.6.12)\n",
            "Requirement already satisfied: nodeenv>=0.11.1 in /usr/local/lib/python3.11/dist-packages (from pre-commit->spatialmath-python) (1.9.1)\n",
            "Requirement already satisfied: virtualenv>=20.10.0 in /usr/local/lib/python3.11/dist-packages (from pre-commit->spatialmath-python) (20.31.2)\n",
            "Requirement already satisfied: parso<0.9.0,>=0.8.4 in /usr/local/lib/python3.11/dist-packages (from jedi>=0.16->ipython>=5->meshcat) (0.8.4)\n",
            "Requirement already satisfied: ptyprocess>=0.5 in /usr/local/lib/python3.11/dist-packages (from pexpect>4.3->ipython>=5->meshcat) (0.7.0)\n",
            "Requirement already satisfied: wcwidth in /usr/local/lib/python3.11/dist-packages (from prompt-toolkit!=3.0.0,!=3.0.1,<3.1.0,>=2.0.0->ipython>=5->meshcat) (0.2.13)\n",
            "Requirement already satisfied: six>=1.5 in /usr/local/lib/python3.11/dist-packages (from python-dateutil>=2.7->matplotlib->spatialmath-python) (1.17.0)\n",
            "Requirement already satisfied: distlib<1,>=0.3.7 in /usr/local/lib/python3.11/dist-packages (from virtualenv>=20.10.0->pre-commit->spatialmath-python) (0.3.9)\n",
            "Requirement already satisfied: filelock<4,>=3.12.2 in /usr/local/lib/python3.11/dist-packages (from virtualenv>=20.10.0->pre-commit->spatialmath-python) (3.18.0)\n",
            "Requirement already satisfied: platformdirs<5,>=3.9.1 in /usr/local/lib/python3.11/dist-packages (from virtualenv>=20.10.0->pre-commit->spatialmath-python) (4.3.8)\n"
          ]
        }
      ]
    },
    {
      "cell_type": "code",
      "source": [
        "import meshcat\n",
        "import meshcat.geometry as g\n",
        "import meshcat.transformations as tf\n",
        "\n",
        "vis = meshcat.Visualizer().open()\n",
        "\n",
        "def set_quadrotor_mesh(vis, color=[0, 0, 0], scale=1.0, obj_file=\"quadrotor_scaled.obj\"):\n",
        "    with open(obj_file, \"r\") as f:\n",
        "        obj_data = f.read()\n",
        "\n",
        "    vis[\"quadrotor\"].set_object(\n",
        "        g.ObjMeshGeometry.from_string(obj_data),\n",
        "        g.MeshPhongMaterial(color=color)\n",
        "    )\n",
        "\n",
        "\n",
        "def set_box_quadrotor(vis, color=[0, 0, 0], scale=1.0):\n",
        "    vis[\"quadrotor\"].set_object(\n",
        "        g.Box([0.3 * scale, 0.05 * scale, 0.01 * scale]),\n",
        "        g.MeshPhongMaterial(color=color)\n",
        "    )\n",
        "\n",
        "def visualize_planar_quadrotor(vis, xhist, h=0.05):\n",
        "    anim = meshcat.animation.Animation()\n",
        "\n",
        "    for k, x in enumerate(xhist):\n",
        "        with anim.at_frame(vis, k):\n",
        "            y, z = x[0], x[1]\n",
        "            theta = x[2]\n",
        "\n",
        "            T = tf.translation_matrix([0, y, z]) @ tf.rotation_matrix(-theta, [1, 0, 0])\n",
        "            vis[\"quadrotor\"].set_transform(T)\n",
        "\n",
        "    vis.set_animation(anim)\n",
        "\n",
        "# Choose either mesh or box\n",
        "#set_quadrotor_mesh(vis, color=[0.1, 0.2, 0.6], obj_file=\"quadrotor_scaled.obj\")\n",
        "set_box_quadrotor(vis, color=[0.1, 0.2, 0.6])  # simpler\n",
        "\n",
        "visualize_planar_quadrotor(vis, xhist2.T, h=h)\n",
        "\n",
        "from time import sleep\n",
        "\n",
        "visualize_planar_quadrotor(vis, xhist1.T, h=h)\n",
        "print(\"Showing LQR trajectory...\")\n",
        "sleep(12)\n",
        "\n",
        "visualize_planar_quadrotor(vis, xhist2.T, h=h)\n",
        "print(\"Showing MPC trajectory...\")\n",
        "\n"
      ],
      "metadata": {
        "id": "6MS3GkN-F5uF"
      },
      "execution_count": 31,
      "outputs": []
    }
  ]
}